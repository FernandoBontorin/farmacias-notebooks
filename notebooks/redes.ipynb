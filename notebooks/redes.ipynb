{
 "cells": [
  {
   "cell_type": "markdown",
   "id": "a51836d2",
   "metadata": {},
   "source": [
    "### Links\n",
    "> Analise de redes\n"
   ]
  },
  {
   "cell_type": "code",
   "execution_count": 1,
   "id": "c6b5af2e",
   "metadata": {},
   "outputs": [
    {
     "data": {
      "text/plain": [
       "\u001b[32mimport \u001b[39m\u001b[36m$ivy.$                                   \n",
       "\u001b[39m\n",
       "\u001b[32mimport \u001b[39m\u001b[36m$ivy.$                                  \n",
       "\u001b[39m\n",
       "\u001b[32mimport \u001b[39m\u001b[36m$ivy.$                                      \n",
       "\u001b[39m\n",
       "\u001b[32mimport \u001b[39m\u001b[36m$ivy.$                                   \n",
       "\u001b[39m\n",
       "\u001b[32mimport \u001b[39m\u001b[36m$ivy.$                                       \n",
       "\u001b[39m\n",
       "\u001b[32mimport \u001b[39m\u001b[36m$ivy.$                                         \n",
       "\u001b[39m"
      ]
     },
     "execution_count": 1,
     "metadata": {},
     "output_type": "execute_result"
    }
   ],
   "source": [
    "import $ivy.`org.apache.spark::spark-core:3.1.2`\n",
    "import $ivy.`org.apache.spark::spark-sql:3.1.2`\n",
    "import $ivy.`org.apache.hadoop:hadoop-client:3.1.2`\n",
    "import $ivy.`org.apache.hadoop:hadoop-aws:3.1.2`\n",
    "import $ivy.`com.amazonaws:aws-java-sdk-s3:1.11.375`\n",
    "import $ivy.`com.amazonaws:aws-java-sdk-core:1.11.375`\n"
   ]
  },
  {
   "cell_type": "code",
   "execution_count": 2,
   "id": "e77e6e73",
   "metadata": {},
   "outputs": [
    {
     "name": "stderr",
     "output_type": "stream",
     "text": [
      "Using Spark's default log4j profile: org/apache/spark/log4j-defaults.properties\n"
     ]
    },
    {
     "data": {
      "text/plain": [
       "\u001b[32mimport \u001b[39m\u001b[36morg.apache.spark.sql._\n",
       "\u001b[39m\n",
       "\u001b[32mimport \u001b[39m\u001b[36morg.apache.spark.sql.functions._\n",
       "\n",
       "\u001b[39m\n",
       "\u001b[36mspark\u001b[39m: \u001b[32mSparkSession\u001b[39m = org.apache.spark.sql.SparkSession@76b1c199\n",
       "\u001b[32mimport \u001b[39m\u001b[36mspark.implicits._\n",
       "\u001b[39m\n",
       "\u001b[32mimport \u001b[39m\u001b[36morg.apache.spark.sql.expressions.Window\u001b[39m"
      ]
     },
     "execution_count": 2,
     "metadata": {},
     "output_type": "execute_result"
    }
   ],
   "source": [
    "import org.apache.spark.sql._\n",
    "import org.apache.spark.sql.functions._\n",
    "\n",
    "val spark = {\n",
    "    import org.apache.log4j.{Level, Logger}\n",
    "    Logger.getLogger(\"org\").setLevel(Level.OFF)\n",
    "      SparkSession.builder()\n",
    "        .master(\"local[3]\")\n",
    "        .config(\"spark.sql.warehouse.dir\", \"s3://fernando-bontorin-censo\")\n",
    "        .getOrCreate()\n",
    "}\n",
    "\n",
    "import spark.implicits._\n",
    "import org.apache.spark.sql.expressions.Window"
   ]
  },
  {
   "cell_type": "code",
   "execution_count": 3,
   "id": "dd8bcab5",
   "metadata": {},
   "outputs": [
    {
     "name": "stdout",
     "output_type": "stream",
     "text": [
      "root\n",
      " |-- CO_UNIDADE: long (nullable = true)\n",
      " |-- CO_CNES: integer (nullable = true)\n",
      " |-- NU_CNPJ_MANTENEDORA: long (nullable = true)\n",
      " |-- TP_PFPJ: integer (nullable = true)\n",
      " |-- NIVEL_DEP: integer (nullable = true)\n",
      " |-- NO_RAZAO_SOCIAL: string (nullable = true)\n",
      " |-- NO_FANTASIA: string (nullable = true)\n",
      " |-- NO_LOGRADOURO: string (nullable = true)\n",
      " |-- NU_ENDERECO: string (nullable = true)\n",
      " |-- NO_COMPLEMENTO: string (nullable = true)\n",
      " |-- NO_BAIRRO: string (nullable = true)\n",
      " |-- CO_CEP: integer (nullable = true)\n",
      " |-- NU_CPF: string (nullable = true)\n",
      " |-- NU_CNPJ: long (nullable = true)\n",
      " |-- CO_ATIVIDADE: integer (nullable = true)\n",
      " |-- CO_CLIENTELA: integer (nullable = true)\n",
      " |-- TP_UNIDADE: integer (nullable = true)\n",
      " |-- CO_ESTADO_GESTOR: integer (nullable = true)\n",
      " |-- CO_MUNICIPIO_GESTOR: integer (nullable = true)\n",
      " |-- TP_ESTAB_SEMPRE_ABERTO: string (nullable = true)\n",
      " |-- CO_TIPO_UNIDADE: string (nullable = true)\n",
      " |-- NO_FANTASIA_ABREV: string (nullable = true)\n",
      " |-- TP_GESTAO: string (nullable = true)\n",
      " |-- competencia: string (nullable = true)\n",
      " |-- LATITUDE: double (nullable = true)\n",
      " |-- LONGITUDE: double (nullable = true)\n",
      "\n"
     ]
    },
    {
     "data": {
      "text/plain": [
       "\u001b[36mestabs\u001b[39m: \u001b[32mDataFrame\u001b[39m = [CO_UNIDADE: bigint, CO_CNES: int ... 24 more fields]"
      ]
     },
     "execution_count": 3,
     "metadata": {},
     "output_type": "execute_result"
    }
   ],
   "source": [
    "val estabs = spark.read.options(\n",
    "    Map(\"inferSchema\" -> \"true\", \"header\" -> \"true\", \"delimiter\" -> \",\", \"encoding\" -> \"UTF-8\")\n",
    ").csv(\"s3a://fernando-bontorin-datasus/tbEstabelecimentoFull\")\n",
    "\n",
    "estabs.printSchema"
   ]
  },
  {
   "cell_type": "code",
   "execution_count": 4,
   "id": "ca5d0455",
   "metadata": {},
   "outputs": [
    {
     "data": {
      "text/plain": [
       "\u001b[36mredes\u001b[39m: \u001b[32mDataFrame\u001b[39m = [NO_RAZAO_SOCIAL: string, count: bigint]"
      ]
     },
     "execution_count": 4,
     "metadata": {},
     "output_type": "execute_result"
    }
   ],
   "source": [
    "val redes = estabs\n",
    "    .where($\"competencia\" === \"2021-12-01\")\n",
    "    .select(\"CO_UNIDADE\", \"NO_RAZAO_SOCIAL\")\n",
    "    .groupBy(\"NO_RAZAO_SOCIAL\").count"
   ]
  },
  {
   "cell_type": "code",
   "execution_count": 5,
   "id": "d4c3af3d",
   "metadata": {},
   "outputs": [
    {
     "name": "stdout",
     "output_type": "stream",
     "text": [
      "+------------------------------------------------+-----+\n",
      "|NO_RAZAO_SOCIAL                                 |count|\n",
      "+------------------------------------------------+-----+\n",
      "|RAIA DROGASIL S A                               |199  |\n",
      "|EMPREENDIMENTOS PAGUE MENOS S A                 |63   |\n",
      "|DROGARIA SAO PAULO S A                          |60   |\n",
      "|SECRETARIA DE ESTADO DA SAUDE DE SAO PAULO      |19   |\n",
      "|FUNDACAO OSWALDO CRUZ                           |8    |\n",
      "|DROGARIA ONOFRE LTDA                            |7    |\n",
      "|EMPREENDIMENTOS PAGUE MENOS SA                  |6    |\n",
      "|IMIFARMA PRODUTOS FARMACEUTICOS E COSMETICOS S A|6    |\n",
      "|DIMED S A DISTRIBUIDORA DE MEDICAMENTOS         |5    |\n",
      "|DROGARIA SAO PAULO                              |5    |\n",
      "|EMPREENDIMENTOS PAGUE MENOS                     |4    |\n",
      "|CIP FARMACEUTICA LTDA                           |2    |\n",
      "|EMPREENDIMENTOS PAGUE MENOS S A 216             |2    |\n",
      "|DROGARIA SAUDE E BELEZA POPULAR LTDA            |2    |\n",
      "|CARREFOUR COMERCIO E INDUSTRIA LTDA             |2    |\n",
      "|DROGARIA COLONIA PAULISTA LTDA                  |2    |\n",
      "|IMIFARMA PRODUTOS FARMACEUTICOS E COSMETICOS SA |2    |\n",
      "|DROGARIA AKYALI LTDA                            |1    |\n",
      "|DROGARIA YUMI LTDA ME                           |1    |\n",
      "|DEMAC PRODUTOS FARMACEUTICOS LTDA               |1    |\n",
      "+------------------------------------------------+-----+\n",
      "only showing top 20 rows\n",
      "\n"
     ]
    }
   ],
   "source": [
    "redes.orderBy(col(\"count\").desc).show(false)"
   ]
  },
  {
   "cell_type": "code",
   "execution_count": 6,
   "id": "c12dc963",
   "metadata": {},
   "outputs": [
    {
     "name": "stdout",
     "output_type": "stream",
     "text": [
      "+------------------------------------------------+-----+\n",
      "|NO_RAZAO_SOCIAL                                 |count|\n",
      "+------------------------------------------------+-----+\n",
      "|RAIA DROGASIL SA                                |1    |\n",
      "|HEMOMED INSTITUTO DE ONCOLOGIA E HEMATOLOGIA    |1    |\n",
      "|AROMATICI COMERCIO DE PRODUTOS MANIPULADOS LTDA |1    |\n",
      "|FARMACIA BOTANICA A NATUREZA LTDA ME            |1    |\n",
      "|4BIO MEDICAMENTOS SA                            |1    |\n",
      "|FARMACIA ABDS EIRELI                            |1    |\n",
      "|DROGARIA VENOSA EIRELI                          |1    |\n",
      "|DROGARIA MKM EIRELI EPP                         |1    |\n",
      "|DROGARIA YUMI LTDA ME                           |1    |\n",
      "|FARMACIA POPULAR DO BRASIL FUNDACAO OSWALDO CRUZ|1    |\n",
      "|SOU MAIS FARMA COMERCIAL LTDA                   |1    |\n",
      "|TECNOLOGIA E EMPREENDEDORISMO DA SAUDE LTDA     |1    |\n",
      "|DROGARIA AKYALI LTDA                            |1    |\n",
      "|DROGARIA SAO PAULO SA                           |1    |\n",
      "|DROGARIA BRASIL03 LTDA                          |1    |\n",
      "|STAR FARMA DROGARIA LTDA EPP                    |1    |\n",
      "|DROGARIA NORTE POPULAR LTDA                     |1    |\n",
      "|SPECIAL PHARMUS COMERCIO DE MEDICAMENTOS LTDA   |1    |\n",
      "|DEMAC PRODUTOS FARMACEUTICOS LTDA               |1    |\n",
      "|DIMED SA DISTRIBUIDORA DE MEDICAMENTOS          |1    |\n",
      "+------------------------------------------------+-----+\n",
      "only showing top 20 rows\n",
      "\n"
     ]
    }
   ],
   "source": [
    "redes.orderBy(col(\"count\").asc).show(false)"
   ]
  },
  {
   "cell_type": "code",
   "execution_count": 7,
   "id": "b06a7617",
   "metadata": {},
   "outputs": [
    {
     "data": {
      "text/plain": [
       "\u001b[36mres6_0\u001b[39m: \u001b[32mLong\u001b[39m = \u001b[32m40L\u001b[39m\n",
       "\u001b[36mres6_1\u001b[39m: \u001b[32mLong\u001b[39m = \u001b[32m23L\u001b[39m"
      ]
     },
     "execution_count": 7,
     "metadata": {},
     "output_type": "execute_result"
    }
   ],
   "source": [
    "redes.count\n",
    "redes.where($\"count\" === 1).count"
   ]
  },
  {
   "cell_type": "code",
   "execution_count": null,
   "id": "1fb97a03",
   "metadata": {},
   "outputs": [],
   "source": []
  }
 ],
 "metadata": {
  "kernelspec": {
   "display_name": "Scala",
   "language": "scala",
   "name": "scala"
  },
  "language_info": {
   "codemirror_mode": "text/x-scala",
   "file_extension": ".sc",
   "mimetype": "text/x-scala",
   "name": "scala",
   "nbconvert_exporter": "script",
   "version": "2.12.10"
  }
 },
 "nbformat": 4,
 "nbformat_minor": 5
}
