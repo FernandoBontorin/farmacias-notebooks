{
 "cells": [
  {
   "cell_type": "markdown",
   "id": "a51836d2",
   "metadata": {},
   "source": [
    "### Links\n",
    "> IBGE censo https://www.ibge.gov.br/estatisticas/downloads-estatisticas.html\n",
    "------------------------\n",
    "> Prefeitura SP projeções https://www.prefeitura.sp.gov.br/cidade/secretarias/licenciamento/desenvolvimento_urbano/dados_estatisticos/info_cidade/demografia/index.php?p=260265\n"
   ]
  },
  {
   "cell_type": "code",
   "execution_count": 1,
   "id": "c6b5af2e",
   "metadata": {},
   "outputs": [
    {
     "data": {
      "text/plain": [
       "\u001b[32mimport \u001b[39m\u001b[36m$ivy.$                                   \n",
       "\u001b[39m\n",
       "\u001b[32mimport \u001b[39m\u001b[36m$ivy.$                                  \n",
       "\u001b[39m\n",
       "\u001b[32mimport \u001b[39m\u001b[36m$ivy.$                                      \n",
       "\u001b[39m\n",
       "\u001b[32mimport \u001b[39m\u001b[36m$ivy.$                                   \n",
       "\u001b[39m\n",
       "\u001b[32mimport \u001b[39m\u001b[36m$ivy.$                                       \n",
       "\u001b[39m\n",
       "\u001b[32mimport \u001b[39m\u001b[36m$ivy.$                                         \n",
       "\u001b[39m"
      ]
     },
     "execution_count": 1,
     "metadata": {},
     "output_type": "execute_result"
    }
   ],
   "source": [
    "import $ivy.`org.apache.spark::spark-core:3.1.2`\n",
    "import $ivy.`org.apache.spark::spark-sql:3.1.2`\n",
    "import $ivy.`org.apache.hadoop:hadoop-client:3.1.2`\n",
    "import $ivy.`org.apache.hadoop:hadoop-aws:3.1.2`\n",
    "import $ivy.`com.amazonaws:aws-java-sdk-s3:1.11.375`\n",
    "import $ivy.`com.amazonaws:aws-java-sdk-core:1.11.375`\n"
   ]
  },
  {
   "cell_type": "code",
   "execution_count": 2,
   "id": "e77e6e73",
   "metadata": {},
   "outputs": [
    {
     "name": "stderr",
     "output_type": "stream",
     "text": [
      "Using Spark's default log4j profile: org/apache/spark/log4j-defaults.properties\n"
     ]
    },
    {
     "data": {
      "text/plain": [
       "\u001b[32mimport \u001b[39m\u001b[36morg.apache.spark.sql._\n",
       "\u001b[39m\n",
       "\u001b[32mimport \u001b[39m\u001b[36morg.apache.spark.sql.functions._\n",
       "\n",
       "\u001b[39m\n",
       "\u001b[36mspark\u001b[39m: \u001b[32mSparkSession\u001b[39m = org.apache.spark.sql.SparkSession@5fbe6b80\n",
       "\u001b[32mimport \u001b[39m\u001b[36mspark.implicits._\n",
       "\u001b[39m\n",
       "\u001b[32mimport \u001b[39m\u001b[36morg.apache.spark.sql.expressions.Window\u001b[39m"
      ]
     },
     "execution_count": 2,
     "metadata": {},
     "output_type": "execute_result"
    }
   ],
   "source": [
    "import org.apache.spark.sql._\n",
    "import org.apache.spark.sql.functions._\n",
    "\n",
    "val spark = {\n",
    "    import org.apache.log4j.{Level, Logger}\n",
    "    Logger.getLogger(\"org\").setLevel(Level.OFF)\n",
    "      SparkSession.builder()\n",
    "        .master(\"local[3]\")\n",
    "        .config(\"spark.sql.warehouse.dir\", \"s3://fernando-bontorin-censo\")\n",
    "        .getOrCreate()\n",
    "}\n",
    "\n",
    "import spark.implicits._\n",
    "import org.apache.spark.sql.expressions.Window"
   ]
  },
  {
   "cell_type": "code",
   "execution_count": 3,
   "id": "dd8bcab5",
   "metadata": {},
   "outputs": [
    {
     "name": "stdout",
     "output_type": "stream",
     "text": [
      "root\n",
      " |-- distrito: string (nullable = true)\n",
      " |-- populacao_total: integer (nullable = true)\n",
      " |-- ano: integer (nullable = true)\n",
      "\n"
     ]
    },
    {
     "data": {
      "text/plain": [
       "\u001b[36mdistritos\u001b[39m: \u001b[32mDataFrame\u001b[39m = [distrito: string, populacao_total: int ... 1 more field]"
      ]
     },
     "execution_count": 3,
     "metadata": {},
     "output_type": "execute_result"
    }
   ],
   "source": [
    "val distritos = spark.read.options(\n",
    "    Map(\"inferSchema\" -> \"true\", \"header\" -> \"true\", \"delimiter\" -> \",\", \"encoding\" -> \"UTF-8\")\n",
    ").csv(\"s3a://fernando-bontorin-censo/distritos_censo_projecoes_e_demografias\")\n",
    ".select(\"distrito\", \"populacao_total\", \"ano\")\n",
    "\n",
    "distritos.printSchema"
   ]
  },
  {
   "cell_type": "code",
   "execution_count": 4,
   "id": "8324370c",
   "metadata": {},
   "outputs": [
    {
     "name": "stdout",
     "output_type": "stream",
     "text": [
      "+-----------------+---------------+----+\n",
      "|         distrito|populacao_total| ano|\n",
      "+-----------------+---------------+----+\n",
      "|           Grajaú|         375667|2021|\n",
      "|    Jardim Ângela|         345308|2021|\n",
      "|  Jardim São Luís|         289717|2021|\n",
      "|    Capão Redondo|         289495|2021|\n",
      "|    Cidade Ademar|         281563|2021|\n",
      "|        Sapopemba|         274069|2021|\n",
      "|      Brasilândia|         272787|2021|\n",
      "|           Sacomã|         259041|2021|\n",
      "|         Tremembé|         231051|2021|\n",
      "|          Jaraguá|         228871|2021|\n",
      "|   Itaim Paulista|         226513|2021|\n",
      "|Cidade Tiradentes|         226343|2021|\n",
      "|      Campo Limpo|         224900|2021|\n",
      "|        Jabaquara|         224309|2021|\n",
      "|     Vila Andrade|         220852|2021|\n",
      "|         Itaquera|         199190|2021|\n",
      "|     Cidade Dutra|         192838|2021|\n",
      "|         Pirituba|         167032|2021|\n",
      "|          Lajeado|         164463|2021|\n",
      "|      Parelheiros|         163709|2021|\n",
      "+-----------------+---------------+----+\n",
      "only showing top 20 rows\n",
      "\n"
     ]
    }
   ],
   "source": [
    "distritos.where($\"ano\" === \"2021\").orderBy(col(\"populacao_total\").desc).show"
   ]
  },
  {
   "cell_type": "code",
   "execution_count": null,
   "id": "675d6064",
   "metadata": {},
   "outputs": [],
   "source": []
  }
 ],
 "metadata": {
  "kernelspec": {
   "display_name": "Scala",
   "language": "scala",
   "name": "scala"
  },
  "language_info": {
   "codemirror_mode": "text/x-scala",
   "file_extension": ".sc",
   "mimetype": "text/x-scala",
   "name": "scala",
   "nbconvert_exporter": "script",
   "version": "2.12.10"
  }
 },
 "nbformat": 4,
 "nbformat_minor": 5
}
