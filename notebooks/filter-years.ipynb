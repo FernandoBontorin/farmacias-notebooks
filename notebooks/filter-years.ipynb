{
 "cells": [
  {
   "cell_type": "markdown",
   "id": "a51836d2",
   "metadata": {},
   "source": [
    "### Links\n",
    "> IBGE censo https://www.ibge.gov.br/estatisticas/downloads-estatisticas.html\n",
    "------------------------\n",
    "> Prefeitura SP projeções https://www.prefeitura.sp.gov.br/cidade/secretarias/licenciamento/desenvolvimento_urbano/dados_estatisticos/info_cidade/demografia/index.php?p=260265\n"
   ]
  },
  {
   "cell_type": "code",
   "execution_count": 1,
   "id": "c6b5af2e",
   "metadata": {},
   "outputs": [
    {
     "data": {
      "text/plain": [
       "\u001b[32mimport \u001b[39m\u001b[36m$ivy.$                                   \n",
       "\u001b[39m\n",
       "\u001b[32mimport \u001b[39m\u001b[36m$ivy.$                                  \n",
       "\u001b[39m\n",
       "\u001b[32mimport \u001b[39m\u001b[36m$ivy.$                                      \n",
       "\u001b[39m\n",
       "\u001b[32mimport \u001b[39m\u001b[36m$ivy.$                                   \n",
       "\u001b[39m\n",
       "\u001b[32mimport \u001b[39m\u001b[36m$ivy.$                                       \n",
       "\u001b[39m\n",
       "\u001b[32mimport \u001b[39m\u001b[36m$ivy.$                                         \n",
       "\u001b[39m"
      ]
     },
     "execution_count": 1,
     "metadata": {},
     "output_type": "execute_result"
    }
   ],
   "source": [
    "import $ivy.`org.apache.spark::spark-core:3.1.2`\n",
    "import $ivy.`org.apache.spark::spark-sql:3.1.2`\n",
    "import $ivy.`org.apache.hadoop:hadoop-client:3.1.2`\n",
    "import $ivy.`org.apache.hadoop:hadoop-aws:3.1.2`\n",
    "import $ivy.`com.amazonaws:aws-java-sdk-s3:1.11.375`\n",
    "import $ivy.`com.amazonaws:aws-java-sdk-core:1.11.375`\n"
   ]
  },
  {
   "cell_type": "code",
   "execution_count": 2,
   "id": "e77e6e73",
   "metadata": {},
   "outputs": [
    {
     "name": "stderr",
     "output_type": "stream",
     "text": [
      "Using Spark's default log4j profile: org/apache/spark/log4j-defaults.properties\n"
     ]
    },
    {
     "data": {
      "text/plain": [
       "\u001b[32mimport \u001b[39m\u001b[36morg.apache.spark.sql._\n",
       "\u001b[39m\n",
       "\u001b[32mimport \u001b[39m\u001b[36morg.apache.spark.sql.functions._\n",
       "\n",
       "\u001b[39m\n",
       "\u001b[36mspark\u001b[39m: \u001b[32mSparkSession\u001b[39m = org.apache.spark.sql.SparkSession@53b3d1d2\n",
       "\u001b[32mimport \u001b[39m\u001b[36mspark.implicits._\n",
       "\u001b[39m\n",
       "\u001b[32mimport \u001b[39m\u001b[36morg.apache.spark.sql.expressions.Window\u001b[39m"
      ]
     },
     "execution_count": 2,
     "metadata": {},
     "output_type": "execute_result"
    }
   ],
   "source": [
    "import org.apache.spark.sql._\n",
    "import org.apache.spark.sql.functions._\n",
    "\n",
    "val spark = {\n",
    "    import org.apache.log4j.{Level, Logger}\n",
    "    Logger.getLogger(\"org\").setLevel(Level.OFF)\n",
    "      SparkSession.builder()\n",
    "        .master(\"local[3]\")\n",
    "        .config(\"spark.sql.warehouse.dir\", \"s3://fernando-bontorin-censo\")\n",
    "        .getOrCreate()\n",
    "}\n",
    "\n",
    "import spark.implicits._\n",
    "import org.apache.spark.sql.expressions.Window"
   ]
  },
  {
   "cell_type": "code",
   "execution_count": 3,
   "id": "dd8bcab5",
   "metadata": {},
   "outputs": [
    {
     "name": "stdout",
     "output_type": "stream",
     "text": [
      "root\n",
      " |-- CO_UNIDADE: long (nullable = true)\n",
      " |-- CO_CNES: integer (nullable = true)\n",
      " |-- NU_CNPJ_MANTENEDORA: long (nullable = true)\n",
      " |-- TP_PFPJ: integer (nullable = true)\n",
      " |-- NIVEL_DEP: integer (nullable = true)\n",
      " |-- NO_RAZAO_SOCIAL: string (nullable = true)\n",
      " |-- NO_FANTASIA: string (nullable = true)\n",
      " |-- NO_LOGRADOURO: string (nullable = true)\n",
      " |-- NU_ENDERECO: string (nullable = true)\n",
      " |-- NO_COMPLEMENTO: string (nullable = true)\n",
      " |-- NO_BAIRRO: string (nullable = true)\n",
      " |-- CO_CEP: integer (nullable = true)\n",
      " |-- NU_CPF: string (nullable = true)\n",
      " |-- NU_CNPJ: long (nullable = true)\n",
      " |-- CO_ATIVIDADE: integer (nullable = true)\n",
      " |-- CO_CLIENTELA: integer (nullable = true)\n",
      " |-- TP_UNIDADE: integer (nullable = true)\n",
      " |-- CO_ESTADO_GESTOR: integer (nullable = true)\n",
      " |-- CO_MUNICIPIO_GESTOR: integer (nullable = true)\n",
      " |-- TP_ESTAB_SEMPRE_ABERTO: string (nullable = true)\n",
      " |-- CO_TIPO_UNIDADE: string (nullable = true)\n",
      " |-- NO_FANTASIA_ABREV: string (nullable = true)\n",
      " |-- TP_GESTAO: string (nullable = true)\n",
      " |-- competencia: string (nullable = true)\n",
      " |-- LATITUDE: double (nullable = true)\n",
      " |-- LONGITUDE: double (nullable = true)\n",
      "\n"
     ]
    },
    {
     "data": {
      "text/plain": [
       "\u001b[36mestabs\u001b[39m: \u001b[32mDataFrame\u001b[39m = [CO_UNIDADE: bigint, CO_CNES: int ... 24 more fields]"
      ]
     },
     "execution_count": 3,
     "metadata": {},
     "output_type": "execute_result"
    }
   ],
   "source": [
    "val estabs = spark.read.options(\n",
    "    Map(\"inferSchema\" -> \"true\", \"header\" -> \"true\", \"delimiter\" -> \",\", \"encoding\" -> \"UTF-8\")\n",
    ").csv(\"s3a://fernando-bontorin-datasus/tbEstabelecimentoFull\")\n",
    "\n",
    "estabs.printSchema"
   ]
  },
  {
   "cell_type": "code",
   "execution_count": 7,
   "id": "ca5d0455",
   "metadata": {},
   "outputs": [
    {
     "name": "stdout",
     "output_type": "stream",
     "text": [
      "+-------------+-----------+----+---+\n",
      "|   CO_UNIDADE|competencia| ano|mes|\n",
      "+-------------+-----------+----+---+\n",
      "|3550306578632| 2017-08-01|2017| 08|\n",
      "|3550306580955| 2017-08-01|2017| 08|\n",
      "+-------------+-----------+----+---+\n",
      "only showing top 2 rows\n",
      "\n"
     ]
    }
   ],
   "source": [
    "estabs.select(col(\"CO_UNIDADE\"), col(\"competencia\"), substring(col(\"competencia\"), 0, 4).as(\"ano\"), substring(col(\"competencia\"), 6, 2).as(\"mes\")).show(2)"
   ]
  },
  {
   "cell_type": "code",
   "execution_count": 12,
   "id": "1f457afa",
   "metadata": {},
   "outputs": [],
   "source": [
    "estabs\n",
    ".withColumn(\"ano\", substring(col(\"competencia\"), 0, 4))\n",
    ".withColumn(\"mes\", substring(col(\"competencia\"), 6, 2))\n",
    ".where($\"mes\" === \"12\")\n",
    ".coalesce(1)\n",
    ".repartitionByRange(col(\"ano\"))\n",
    ".write\n",
    ".mode(SaveMode.Overwrite)\n",
    ".options(\n",
    "    Map(\"header\" -> \"true\", \"delimiter\" -> \",\", \"encoding\" -> \"UTF-8\")\n",
    ")\n",
    ".csv(\"s3a://fernando-bontorin-datasus/tbEstabelecimentoAno\")"
   ]
  },
  {
   "cell_type": "code",
   "execution_count": null,
   "id": "d4c3af3d",
   "metadata": {},
   "outputs": [],
   "source": []
  }
 ],
 "metadata": {
  "kernelspec": {
   "display_name": "Scala",
   "language": "scala",
   "name": "scala"
  },
  "language_info": {
   "codemirror_mode": "text/x-scala",
   "file_extension": ".sc",
   "mimetype": "text/x-scala",
   "name": "scala",
   "nbconvert_exporter": "script",
   "version": "2.12.10"
  }
 },
 "nbformat": 4,
 "nbformat_minor": 5
}
