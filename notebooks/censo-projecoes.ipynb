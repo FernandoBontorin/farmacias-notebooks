{
 "cells": [
  {
   "cell_type": "markdown",
   "id": "a51836d2",
   "metadata": {},
   "source": [
    "### Links\n",
    "> IBGE censo https://www.ibge.gov.br/estatisticas/downloads-estatisticas.html\n",
    "------------------------\n",
    "> Prefeitura SP projeções https://www.prefeitura.sp.gov.br/cidade/secretarias/licenciamento/desenvolvimento_urbano/dados_estatisticos/info_cidade/demografia/index.php?p=260265\n"
   ]
  },
  {
   "cell_type": "code",
   "execution_count": 1,
   "id": "c6b5af2e",
   "metadata": {},
   "outputs": [
    {
     "data": {
      "text/plain": [
       "\u001b[32mimport \u001b[39m\u001b[36m$ivy.$                                   \n",
       "\u001b[39m\n",
       "\u001b[32mimport \u001b[39m\u001b[36m$ivy.$                                  \n",
       "\u001b[39m\n",
       "\u001b[32mimport \u001b[39m\u001b[36m$ivy.$                                      \n",
       "\u001b[39m\n",
       "\u001b[32mimport \u001b[39m\u001b[36m$ivy.$                                   \n",
       "\u001b[39m\n",
       "\u001b[32mimport \u001b[39m\u001b[36m$ivy.$                                       \n",
       "\u001b[39m\n",
       "\u001b[32mimport \u001b[39m\u001b[36m$ivy.$                                         \n",
       "\u001b[39m"
      ]
     },
     "execution_count": 1,
     "metadata": {},
     "output_type": "execute_result"
    }
   ],
   "source": [
    "import $ivy.`org.apache.spark::spark-core:3.1.2`\n",
    "import $ivy.`org.apache.spark::spark-sql:3.1.2`\n",
    "import $ivy.`org.apache.hadoop:hadoop-client:3.1.2`\n",
    "import $ivy.`org.apache.hadoop:hadoop-aws:3.1.2`\n",
    "import $ivy.`com.amazonaws:aws-java-sdk-s3:1.11.375`\n",
    "import $ivy.`com.amazonaws:aws-java-sdk-core:1.11.375`\n"
   ]
  },
  {
   "cell_type": "code",
   "execution_count": 2,
   "id": "e77e6e73",
   "metadata": {},
   "outputs": [
    {
     "name": "stderr",
     "output_type": "stream",
     "text": [
      "Using Spark's default log4j profile: org/apache/spark/log4j-defaults.properties\n"
     ]
    },
    {
     "data": {
      "text/plain": [
       "\u001b[32mimport \u001b[39m\u001b[36morg.apache.spark.sql._\n",
       "\u001b[39m\n",
       "\u001b[32mimport \u001b[39m\u001b[36morg.apache.spark.sql.functions._\n",
       "\n",
       "\u001b[39m\n",
       "\u001b[36mspark\u001b[39m: \u001b[32mSparkSession\u001b[39m = org.apache.spark.sql.SparkSession@2c2a58db\n",
       "\u001b[32mimport \u001b[39m\u001b[36mspark.implicits._\n",
       "\u001b[39m\n",
       "\u001b[32mimport \u001b[39m\u001b[36morg.apache.spark.sql.expressions.Window\u001b[39m"
      ]
     },
     "execution_count": 2,
     "metadata": {},
     "output_type": "execute_result"
    }
   ],
   "source": [
    "import org.apache.spark.sql._\n",
    "import org.apache.spark.sql.functions._\n",
    "\n",
    "val spark = {\n",
    "    import org.apache.log4j.{Level, Logger}\n",
    "    Logger.getLogger(\"org\").setLevel(Level.OFF)\n",
    "      SparkSession.builder()\n",
    "        .master(\"local[3]\")\n",
    "        .config(\"spark.sql.warehouse.dir\", \"s3://fernando-bontorin-censo\")\n",
    "        .getOrCreate()\n",
    "}\n",
    "\n",
    "import spark.implicits._\n",
    "import org.apache.spark.sql.expressions.Window"
   ]
  },
  {
   "cell_type": "code",
   "execution_count": 3,
   "id": "dd8bcab5",
   "metadata": {},
   "outputs": [
    {
     "name": "stdout",
     "output_type": "stream",
     "text": [
      "root\n",
      " |-- Distritos: string (nullable = true)\n",
      " |-- 2017: string (nullable = true)\n",
      " |-- 2018: string (nullable = true)\n",
      " |-- 2019: string (nullable = true)\n",
      " |-- 2020: string (nullable = true)\n",
      " |-- 2021: string (nullable = true)\n",
      "\n"
     ]
    },
    {
     "data": {
      "text/plain": [
       "\u001b[36mprojecoes\u001b[39m: \u001b[32mDataFrame\u001b[39m = [Distritos: string, 2017: string ... 4 more fields]"
      ]
     },
     "execution_count": 3,
     "metadata": {},
     "output_type": "execute_result"
    }
   ],
   "source": [
    "val projecoes = spark.read.options(\n",
    "    Map(\"inferSchema\" -> \"true\", \"header\" -> \"true\", \"delimiter\" -> \";\", \"encoding\" -> \"UTF-8\")\n",
    ").csv(\"s3a://fernando-bontorin-censo/custom_IBGE_projecoes_populac_2008_10573.CSV\")\n",
    "\n",
    "projecoes.printSchema"
   ]
  },
  {
   "cell_type": "code",
   "execution_count": 4,
   "id": "0231ef09",
   "metadata": {},
   "outputs": [
    {
     "name": "stdout",
     "output_type": "stream",
     "text": [
      "+----------+---------------+----+\n",
      "|  distrito|populacao_total| ano|\n",
      "+----------+---------------+----+\n",
      "|Bela Vista|          72182|2017|\n",
      "|Bela Vista|          72543|2018|\n",
      "|Bela Vista|          72897|2019|\n",
      "|Bela Vista|          73243|2020|\n",
      "|Bela Vista|          73590|2021|\n",
      "|Bom Retiro|          39058|2017|\n",
      "+----------+---------------+----+\n",
      "only showing top 6 rows\n",
      "\n"
     ]
    },
    {
     "data": {
      "text/plain": [
       "defined \u001b[32mfunction\u001b[39m \u001b[36mstringNumber\u001b[39m\n",
       "\u001b[36mprojecoesPorAno\u001b[39m: \u001b[32mDataFrame\u001b[39m = [distrito: string, populacao_total: bigint ... 1 more field]"
      ]
     },
     "execution_count": 4,
     "metadata": {},
     "output_type": "execute_result"
    }
   ],
   "source": [
    "def stringNumber(s: String) = regexp_replace(col(s), lit(\" \"), lit(\"\")).cast(\"long\").as(s)\n",
    "\n",
    "val projecoesPorAno = projecoes\n",
    ".select(col(\"Distritos\"), stringNumber(\"2017\"), stringNumber(\"2018\"), stringNumber(\"2019\"), stringNumber(\"2020\"), stringNumber(\"2021\"))\n",
    ".flatMap(row=> Seq(\n",
    "    (row.getAs[String](\"Distritos\"), row.getAs[Long](\"2017\"), 2017),\n",
    "    (row.getAs[String](\"Distritos\"), row.getAs[Long](\"2018\"), 2018),\n",
    "    (row.getAs[String](\"Distritos\"), row.getAs[Long](\"2019\"), 2019),\n",
    "    (row.getAs[String](\"Distritos\"), row.getAs[Long](\"2020\"), 2020),\n",
    "    (row.getAs[String](\"Distritos\"), row.getAs[Long](\"2021\"), 2021)\n",
    ")).toDF(\"distrito\", \"populacao_total\", \"ano\")\n",
    "\n",
    "projecoesPorAno.show(6)"
   ]
  },
  {
   "cell_type": "code",
   "execution_count": 5,
   "id": "fd7e7cdc",
   "metadata": {},
   "outputs": [
    {
     "data": {
      "text/plain": [
       "\u001b[36mcenso\u001b[39m: \u001b[32mDataFrame\u001b[39m = [Cod_setor: bigint, Cod_Grandes Regiões: int ... 172 more fields]"
      ]
     },
     "execution_count": 5,
     "metadata": {},
     "output_type": "execute_result"
    }
   ],
   "source": [
    "val censo = spark.read.options(\n",
    "    Map(\"inferSchema\" -> \"true\", \"header\" -> \"true\", \"delimiter\" -> \";\", \"encoding\" -> \"UTF-8\")\n",
    ").csv(\"s3a://fernando-bontorin-censo/Base_informacoes_setores2010_sinopse_SP_RM_Sao_Paulo_Santos.csv\")\n"
   ]
  },
  {
   "cell_type": "code",
   "execution_count": 6,
   "id": "f1031fa7",
   "metadata": {},
   "outputs": [
    {
     "data": {
      "text/plain": [
       "defined \u001b[32mfunction\u001b[39m \u001b[36mcenso_isSPCapital\u001b[39m\n",
       "defined \u001b[32mfunction\u001b[39m \u001b[36mfreeX\u001b[39m\n",
       "\u001b[36mcapital_censos\u001b[39m: \u001b[32mDataFrame\u001b[39m = [distrito: string, V001: int ... 153 more fields]"
      ]
     },
     "execution_count": 6,
     "metadata": {},
     "output_type": "execute_result"
    }
   ],
   "source": [
    "def censo_isSPCapital: Column = when(col(\"Cod_municipio\") === 3550308, true).otherwise(false)\n",
    "def freeX(s: String): Column = when(lower(trim(col(s))) === \"x\", 0).otherwise(col(s).cast(\"int\")).as(s)\n",
    "\n",
    "val capital_censos = censo.where(censo_isSPCapital).select(\n",
    "    Seq(col(\"Nome_do_distrito\").as(\"distrito\")) ++\n",
    "    censo.columns.filter(x=>x.startsWith(\"V\")).map(s=>freeX(s)):_*\n",
    ")"
   ]
  },
  {
   "cell_type": "code",
   "execution_count": 7,
   "id": "ab1ceddb",
   "metadata": {},
   "outputs": [
    {
     "data": {
      "text/plain": [
       "\u001b[36mwindowSpecAgg\u001b[39m: \u001b[32mexpressions\u001b[39m.\u001b[32mWindowSpec\u001b[39m = org.apache.spark.sql.expressions.WindowSpec@6490684c"
      ]
     },
     "execution_count": 7,
     "metadata": {},
     "output_type": "execute_result"
    }
   ],
   "source": [
    "val windowSpecAgg = org.apache.spark.sql.expressions.Window.partitionBy(col(\"distrito\"))"
   ]
  },
  {
   "cell_type": "code",
   "execution_count": 8,
   "id": "61932e09",
   "metadata": {},
   "outputs": [
    {
     "data": {
      "text/plain": [
       "\u001b[36mdistritos_somatoria\u001b[39m: \u001b[32mDataset\u001b[39m[\u001b[32mRow\u001b[39m] = [distrito: string, V001: bigint ... 153 more fields]"
      ]
     },
     "execution_count": 8,
     "metadata": {},
     "output_type": "execute_result"
    }
   ],
   "source": [
    "val distritos_somatoria = capital_censos.select(\n",
    "    Seq(col(\"distrito\")) ++ censo.columns.filter(x=>x.startsWith(\"V\")).map(c=>sum(col(c)).over(Window.partitionBy(col(\"distrito\"))).as(c)):_*\n",
    ").dropDuplicates"
   ]
  },
  {
   "cell_type": "code",
   "execution_count": 9,
   "id": "bea053e1",
   "metadata": {},
   "outputs": [
    {
     "data": {
      "text/plain": [
       "defined \u001b[32mfunction\u001b[39m \u001b[36midadeRatio\u001b[39m\n",
       "defined \u001b[32mfunction\u001b[39m \u001b[36mclusterIdadeRatio\u001b[39m"
      ]
     },
     "execution_count": 9,
     "metadata": {},
     "output_type": "execute_result"
    }
   ],
   "source": [
    "def idadeRatio(c: Column) = when(c > 0, c/col(\"V014\") ).otherwise(0.0)\n",
    "\n",
    "def clusterIdadeRatio(colsNames: String*) = idadeRatio(colsNames.map(col).reduce(_ + _))"
   ]
  },
  {
   "cell_type": "code",
   "execution_count": 10,
   "id": "175b6deb",
   "metadata": {},
   "outputs": [
    {
     "data": {
      "text/plain": [
       "\u001b[36mdistritos_perfis_idade\u001b[39m: \u001b[32mDataFrame\u001b[39m = [distrito: string, razao_residentes_0_4: double ... 20 more fields]"
      ]
     },
     "execution_count": 10,
     "metadata": {},
     "output_type": "execute_result"
    }
   ],
   "source": [
    "val distritos_perfis_idade = distritos_somatoria.select(\n",
    "    col(\"distrito\"),\n",
    "    clusterIdadeRatio(\"V032\", \"V033\", \"V034\", \"V035\", \"V036\").as(\"razao_residentes_0_4\"),\n",
    "    clusterIdadeRatio(\"V037\", \"V038\", \"V039\", \"V040\", \"V041\").as(\"razao_residentes_5_9\"),\n",
    "    clusterIdadeRatio(\"V042\", \"V043\", \"V044\", \"V045\", \"V046\").as(\"razao_residentes_10_14\"),\n",
    "    clusterIdadeRatio(\"V047\", \"V048\", \"V049\", \"V050\", \"V051\").as(\"razao_residentes_15_19\"),\n",
    "    clusterIdadeRatio(\"V052\", \"V053\", \"V054\", \"V055\", \"V056\").as(\"razao_residentes_20_24\"),\n",
    "    idadeRatio(col(\"V057\")).as(\"razao_residentes_25_29\"),\n",
    "    idadeRatio(col(\"V058\")).as(\"razao_residentes_30_34\"),\n",
    "    idadeRatio(col(\"V059\")).as(\"razao_residentes_35_39\"),\n",
    "    idadeRatio(col(\"V060\")).as(\"razao_residentes_40_44\"),\n",
    "    idadeRatio(col(\"V061\")).as(\"razao_residentes_45_49\"),\n",
    "    idadeRatio(col(\"V062\")).as(\"razao_residentes_50_54\"),\n",
    "    idadeRatio(col(\"V063\")).as(\"razao_residentes_55_59\"),\n",
    "    idadeRatio(col(\"V064\")).as(\"razao_residentes_60_64\"),\n",
    "    idadeRatio(col(\"V065\")).as(\"razao_residentes_65_69\"),\n",
    "    idadeRatio(col(\"V066\")).as(\"razao_residentes_70_74\"),\n",
    "    idadeRatio(col(\"V067\")).as(\"razao_residentes_75_79\"),\n",
    "    idadeRatio(col(\"V068\")).as(\"razao_residentes_80_84\"),\n",
    "    idadeRatio(col(\"V069\")).as(\"razao_residentes_85_89\"),\n",
    "    idadeRatio(col(\"V070\")).as(\"razao_residentes_90_94\"),\n",
    "    idadeRatio(col(\"V071\")).as(\"razao_residentes_95_99\"),\n",
    "    idadeRatio(col(\"V072\")).as(\"razao_residentes_100\")\n",
    ")"
   ]
  },
  {
   "cell_type": "code",
   "execution_count": 11,
   "id": "48330a54",
   "metadata": {},
   "outputs": [
    {
     "name": "stdout",
     "output_type": "stream",
     "text": [
      "+--------+--------------------+--------------------+----------------------+----------------------+----------------------+----------------------+----------------------+----------------------+----------------------+----------------------+----------------------+----------------------+----------------------+----------------------+----------------------+----------------------+----------------------+----------------------+----------------------+----------------------+--------------------+\n",
      "|distrito|razao_residentes_0_4|razao_residentes_5_9|razao_residentes_10_14|razao_residentes_15_19|razao_residentes_20_24|razao_residentes_25_29|razao_residentes_30_34|razao_residentes_35_39|razao_residentes_40_44|razao_residentes_45_49|razao_residentes_50_54|razao_residentes_55_59|razao_residentes_60_64|razao_residentes_65_69|razao_residentes_70_74|razao_residentes_75_79|razao_residentes_80_84|razao_residentes_85_89|razao_residentes_90_94|razao_residentes_95_99|razao_residentes_100|\n",
      "+--------+--------------------+--------------------+----------------------+----------------------+----------------------+----------------------+----------------------+----------------------+----------------------+----------------------+----------------------+----------------------+----------------------+----------------------+----------------------+----------------------+----------------------+----------------------+----------------------+----------------------+--------------------+\n",
      "|MARSILAC| 0.07241462823928312| 0.08416081375635748|   0.11043836279970937|   0.09118430612739162|   0.08779365463792686|   0.07507871155243401|   0.07398885928796319|   0.06091063211431339|   0.07011382901428917|   0.06393799951562122|   0.05969968515379026|  0.045652700411721966|   0.03402760959069993|   0.02325018164204408|   0.01755873092758537|   0.01041414386049891|  0.006054734802615646|  0.002664083313150884|  3.632840881569387...|  2.421893921046258E-4|                 0.0|\n",
      "+--------+--------------------+--------------------+----------------------+----------------------+----------------------+----------------------+----------------------+----------------------+----------------------+----------------------+----------------------+----------------------+----------------------+----------------------+----------------------+----------------------+----------------------+----------------------+----------------------+----------------------+--------------------+\n",
      "only showing top 1 row\n",
      "\n"
     ]
    }
   ],
   "source": [
    "distritos_perfis_idade.show(1)"
   ]
  },
  {
   "cell_type": "code",
   "execution_count": 13,
   "id": "6a56c4c5",
   "metadata": {},
   "outputs": [
    {
     "data": {
      "text/plain": [
       "\u001b[36mdistrito_tamanho\u001b[39m: \u001b[32mDataFrame\u001b[39m = [distrito: string, tamanho_em_ha: double ... 2 more fields]"
      ]
     },
     "execution_count": 13,
     "metadata": {},
     "output_type": "execute_result"
    }
   ],
   "source": [
    "val distrito_tamanho = spark.read.options(\n",
    "    Map(\"inferSchema\" -> \"true\", \"header\" -> \"true\", \"delimiter\" -> \";\", \"encoding\" -> \"UTF-8\")\n",
    ").csv(\"s3a://fernando-bontorin-censo/tamanho_regiao_sp_distritos.csv\")\n",
    ".select(col(\"distrito\"), col(\"regiao_ha\").as(\"tamanho_em_ha\"), col(\"regiao_metros\").as(\"tamanho_em_m2\"), col(\"regiao_km\").as(\"tamanho_em_km2\"))"
   ]
  },
  {
   "cell_type": "code",
   "execution_count": 14,
   "id": "9eb6cdca",
   "metadata": {},
   "outputs": [
    {
     "name": "stdout",
     "output_type": "stream",
     "text": [
      "+----------+-------------+-------------+--------------+\n",
      "|  distrito|tamanho_em_ha|tamanho_em_m2|tamanho_em_km2|\n",
      "+----------+-------------+-------------+--------------+\n",
      "|Aricanduva|        660.0|      6600000|           6,6|\n",
      "|    Carrão|        750.0|      7500000|           7,5|\n",
      "+----------+-------------+-------------+--------------+\n",
      "only showing top 2 rows\n",
      "\n"
     ]
    }
   ],
   "source": [
    "distrito_tamanho.show(2)"
   ]
  },
  {
   "cell_type": "code",
   "execution_count": 15,
   "id": "251c757f",
   "metadata": {},
   "outputs": [
    {
     "data": {
      "text/plain": [
       "defined \u001b[32mfunction\u001b[39m \u001b[36mdistrito_padronizado\u001b[39m"
      ]
     },
     "execution_count": 15,
     "metadata": {},
     "output_type": "execute_result"
    }
   ],
   "source": [
    "def distrito_padronizado = udf((s: String) =>\n",
    "                               s.trim.toLowerCase\n",
    "                               .replace(\"ã\", \"a\")\n",
    "                               .replace(\"â\", \"a\")\n",
    "                               .replace(\"á\", \"a\")\n",
    "                               .replace(\"é\", \"e\")\n",
    "                               .replace(\"í\", \"i\")\n",
    "                               .replace(\"ô\", \"o\")\n",
    "                               .replace(\"ó\", \"o\")\n",
    "                               .replace(\"ú\", \"u\")\n",
    "                               .replace(\"ç\", \"c\"))"
   ]
  },
  {
   "cell_type": "code",
   "execution_count": 16,
   "id": "65cdd571",
   "metadata": {},
   "outputs": [
    {
     "data": {
      "text/plain": [
       "\u001b[36mdfCenso\u001b[39m: \u001b[32mDataFrame\u001b[39m = [distrito_pr: string, distrito: string ... 26 more fields]"
      ]
     },
     "execution_count": 16,
     "metadata": {},
     "output_type": "execute_result"
    }
   ],
   "source": [
    "val dfCenso = projecoesPorAno.withColumn(\"distrito_pr\", distrito_padronizado(col(\"distrito\")))\n",
    ".join(distrito_tamanho.withColumn(\"distrito_pr\", distrito_padronizado(col(\"distrito\"))).drop(\"distrito\"), Seq(\"distrito_pr\"), \"left\")\n",
    ".join(distritos_perfis_idade.withColumn(\"distrito_pr\", distrito_padronizado(col(\"distrito\"))).drop(\"distrito\"), Seq(\"distrito_pr\"), \"left\")"
   ]
  },
  {
   "cell_type": "code",
   "execution_count": 17,
   "id": "ef4349a1",
   "metadata": {},
   "outputs": [
    {
     "name": "stdout",
     "output_type": "stream",
     "text": [
      "root\n",
      " |-- distrito_pr: string (nullable = true)\n",
      " |-- distrito: string (nullable = true)\n",
      " |-- populacao_total: long (nullable = false)\n",
      " |-- ano: integer (nullable = false)\n",
      " |-- tamanho_em_ha: double (nullable = true)\n",
      " |-- tamanho_em_m2: integer (nullable = true)\n",
      " |-- tamanho_em_km2: string (nullable = true)\n",
      " |-- razao_residentes_0_4: double (nullable = true)\n",
      " |-- razao_residentes_5_9: double (nullable = true)\n",
      " |-- razao_residentes_10_14: double (nullable = true)\n",
      " |-- razao_residentes_15_19: double (nullable = true)\n",
      " |-- razao_residentes_20_24: double (nullable = true)\n",
      " |-- razao_residentes_25_29: double (nullable = true)\n",
      " |-- razao_residentes_30_34: double (nullable = true)\n",
      " |-- razao_residentes_35_39: double (nullable = true)\n",
      " |-- razao_residentes_40_44: double (nullable = true)\n",
      " |-- razao_residentes_45_49: double (nullable = true)\n",
      " |-- razao_residentes_50_54: double (nullable = true)\n",
      " |-- razao_residentes_55_59: double (nullable = true)\n",
      " |-- razao_residentes_60_64: double (nullable = true)\n",
      " |-- razao_residentes_65_69: double (nullable = true)\n",
      " |-- razao_residentes_70_74: double (nullable = true)\n",
      " |-- razao_residentes_75_79: double (nullable = true)\n",
      " |-- razao_residentes_80_84: double (nullable = true)\n",
      " |-- razao_residentes_85_89: double (nullable = true)\n",
      " |-- razao_residentes_90_94: double (nullable = true)\n",
      " |-- razao_residentes_95_99: double (nullable = true)\n",
      " |-- razao_residentes_100: double (nullable = true)\n",
      "\n",
      "+-----------+----------+---------------+----+-------------+-------------+--------------+--------------------+--------------------+----------------------+----------------------+----------------------+----------------------+----------------------+----------------------+----------------------+----------------------+----------------------+----------------------+----------------------+----------------------+----------------------+----------------------+----------------------+----------------------+----------------------+----------------------+--------------------+\n",
      "|distrito_pr|  distrito|populacao_total| ano|tamanho_em_ha|tamanho_em_m2|tamanho_em_km2|razao_residentes_0_4|razao_residentes_5_9|razao_residentes_10_14|razao_residentes_15_19|razao_residentes_20_24|razao_residentes_25_29|razao_residentes_30_34|razao_residentes_35_39|razao_residentes_40_44|razao_residentes_45_49|razao_residentes_50_54|razao_residentes_55_59|razao_residentes_60_64|razao_residentes_65_69|razao_residentes_70_74|razao_residentes_75_79|razao_residentes_80_84|razao_residentes_85_89|razao_residentes_90_94|razao_residentes_95_99|razao_residentes_100|\n",
      "+-----------+----------+---------------+----+-------------+-------------+--------------+--------------------+--------------------+----------------------+----------------------+----------------------+----------------------+----------------------+----------------------+----------------------+----------------------+----------------------+----------------------+----------------------+----------------------+----------------------+----------------------+----------------------+----------------------+----------------------+----------------------+--------------------+\n",
      "| bela vista|Bela Vista|          72182|2017|        260.0|      2600000|           2,6| 0.03882810250503887|0.034725021595162685|   0.03780593147135042|  0.049366541894615604|   0.09978404837316442|   0.13242153757558306|   0.11043766196372012|   0.08188885689605528|    0.0698531528937518|   0.06510221710336885|   0.06213648142816009|   0.05643535847970055|  0.046515980420385836|  0.033112582781456956|  0.026835588828102504|  0.022113446587964297|  0.017506478548805066|  0.010048949035416067|  0.003469622804491794|  0.001050964583933199|2.303484019579614...|\n",
      "| bela vista|Bela Vista|          72543|2018|        260.0|      2600000|           2,6| 0.03882810250503887|0.034725021595162685|   0.03780593147135042|  0.049366541894615604|   0.09978404837316442|   0.13242153757558306|   0.11043766196372012|   0.08188885689605528|    0.0698531528937518|   0.06510221710336885|   0.06213648142816009|   0.05643535847970055|  0.046515980420385836|  0.033112582781456956|  0.026835588828102504|  0.022113446587964297|  0.017506478548805066|  0.010048949035416067|  0.003469622804491794|  0.001050964583933199|2.303484019579614...|\n",
      "+-----------+----------+---------------+----+-------------+-------------+--------------+--------------------+--------------------+----------------------+----------------------+----------------------+----------------------+----------------------+----------------------+----------------------+----------------------+----------------------+----------------------+----------------------+----------------------+----------------------+----------------------+----------------------+----------------------+----------------------+----------------------+--------------------+\n",
      "only showing top 2 rows\n",
      "\n"
     ]
    }
   ],
   "source": [
    "dfCenso.printSchema\n",
    "dfCenso.show(2)"
   ]
  },
  {
   "cell_type": "code",
   "execution_count": 18,
   "id": "1f457afa",
   "metadata": {},
   "outputs": [],
   "source": [
    "dfCenso\n",
    ".coalesce(1)\n",
    ".write\n",
    ".mode(SaveMode.Overwrite)\n",
    ".options(\n",
    "    Map(\"header\" -> \"true\", \"delimiter\" -> \",\", \"encoding\" -> \"UTF-8\")\n",
    ")\n",
    ".csv(\"s3a://fernando-bontorin-censo/distritos_censo_projecoes_e_demografias\")"
   ]
  },
  {
   "cell_type": "code",
   "execution_count": null,
   "id": "697658fd",
   "metadata": {},
   "outputs": [],
   "source": []
  }
 ],
 "metadata": {
  "kernelspec": {
   "display_name": "Scala",
   "language": "scala",
   "name": "scala"
  },
  "language_info": {
   "codemirror_mode": "text/x-scala",
   "file_extension": ".sc",
   "mimetype": "text/x-scala",
   "name": "scala",
   "nbconvert_exporter": "script",
   "version": "2.12.10"
  }
 },
 "nbformat": 4,
 "nbformat_minor": 5
}
